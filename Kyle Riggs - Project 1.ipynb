{
 "cells": [
  {
   "cell_type": "code",
   "execution_count": 1,
   "id": "44b02f4e",
   "metadata": {},
   "outputs": [],
   "source": [
    "\"\"\"Project 1, Questions 1-5\"\"\"\n",
    "\n",
    "import numpy as np\n",
    "import pandas as pd\n",
    "from matplotlib import pyplot as plt\n",
    "\n",
    "pd.options.mode.chained_assignment = None # default = 'warn'\n",
    "\n",
    "__author__ = \"Kyle Riggs\"\n",
    "__version__ = \"Fall 2022\""
   ]
  },
  {
   "cell_type": "markdown",
   "id": "3c75ddec",
   "metadata": {},
   "source": [
    "### 1. Problem Statements\n",
    "#### Load the data (It should have at least 100 rows) and get familiar with it. Describe the data source and include its link.  \n",
    "\n",
    "Link: https://www.kaggle.com/datasets/gregorut/videogamesales  \n",
    "The data source is a collection of more than 16,500 games that sold more than 100,000 copies. Aside from the name of each game, it also includes information about which platform the game was sold on, which company published the game, the year it released, the genre,and sales figures both for the global market as well as individual markets (for North America, Europe, Japan, and other).  \n",
    "\n",
    "#### List out three questions you want to investigate from this dataset. These questions could be a trend, a comparison between different groups of a categorical feature, a relationship between two variables, or a distribution of a numerical value.\n",
    "1. Which platform has the most global sales of all time?  \n",
    "2. For the platform with the most global sales, which genre of game had the most global sales?  \n",
    "3. For the genre with the most global sales on the platform with the most global sales, which year had the most global sales?"
   ]
  },
  {
   "cell_type": "code",
   "execution_count": 21,
   "id": "67b0745f",
   "metadata": {},
   "outputs": [
    {
     "name": "stdout",
     "output_type": "stream",
     "text": [
      "Shape: (16598, 11)\n"
     ]
    },
    {
     "data": {
      "text/html": [
       "<div>\n",
       "<style scoped>\n",
       "    .dataframe tbody tr th:only-of-type {\n",
       "        vertical-align: middle;\n",
       "    }\n",
       "\n",
       "    .dataframe tbody tr th {\n",
       "        vertical-align: top;\n",
       "    }\n",
       "\n",
       "    .dataframe thead th {\n",
       "        text-align: right;\n",
       "    }\n",
       "</style>\n",
       "<table border=\"1\" class=\"dataframe\">\n",
       "  <thead>\n",
       "    <tr style=\"text-align: right;\">\n",
       "      <th></th>\n",
       "      <th>Rank</th>\n",
       "      <th>Name</th>\n",
       "      <th>Platform</th>\n",
       "      <th>Year</th>\n",
       "      <th>Genre</th>\n",
       "      <th>Publisher</th>\n",
       "      <th>NA_Sales</th>\n",
       "      <th>EU_Sales</th>\n",
       "      <th>JP_Sales</th>\n",
       "      <th>Other_Sales</th>\n",
       "      <th>Global_Sales</th>\n",
       "    </tr>\n",
       "  </thead>\n",
       "  <tbody>\n",
       "    <tr>\n",
       "      <th>0</th>\n",
       "      <td>1</td>\n",
       "      <td>Wii Sports</td>\n",
       "      <td>Wii</td>\n",
       "      <td>2006.0</td>\n",
       "      <td>Sports</td>\n",
       "      <td>Nintendo</td>\n",
       "      <td>41.49</td>\n",
       "      <td>29.02</td>\n",
       "      <td>3.77</td>\n",
       "      <td>8.46</td>\n",
       "      <td>82.74</td>\n",
       "    </tr>\n",
       "    <tr>\n",
       "      <th>1</th>\n",
       "      <td>2</td>\n",
       "      <td>Super Mario Bros.</td>\n",
       "      <td>NES</td>\n",
       "      <td>1985.0</td>\n",
       "      <td>Platform</td>\n",
       "      <td>Nintendo</td>\n",
       "      <td>29.08</td>\n",
       "      <td>3.58</td>\n",
       "      <td>6.81</td>\n",
       "      <td>0.77</td>\n",
       "      <td>40.24</td>\n",
       "    </tr>\n",
       "    <tr>\n",
       "      <th>2</th>\n",
       "      <td>3</td>\n",
       "      <td>Mario Kart Wii</td>\n",
       "      <td>Wii</td>\n",
       "      <td>2008.0</td>\n",
       "      <td>Racing</td>\n",
       "      <td>Nintendo</td>\n",
       "      <td>15.85</td>\n",
       "      <td>12.88</td>\n",
       "      <td>3.79</td>\n",
       "      <td>3.31</td>\n",
       "      <td>35.82</td>\n",
       "    </tr>\n",
       "    <tr>\n",
       "      <th>3</th>\n",
       "      <td>4</td>\n",
       "      <td>Wii Sports Resort</td>\n",
       "      <td>Wii</td>\n",
       "      <td>2009.0</td>\n",
       "      <td>Sports</td>\n",
       "      <td>Nintendo</td>\n",
       "      <td>15.75</td>\n",
       "      <td>11.01</td>\n",
       "      <td>3.28</td>\n",
       "      <td>2.96</td>\n",
       "      <td>33.00</td>\n",
       "    </tr>\n",
       "    <tr>\n",
       "      <th>4</th>\n",
       "      <td>5</td>\n",
       "      <td>Pokemon Red/Pokemon Blue</td>\n",
       "      <td>GB</td>\n",
       "      <td>1996.0</td>\n",
       "      <td>Role-Playing</td>\n",
       "      <td>Nintendo</td>\n",
       "      <td>11.27</td>\n",
       "      <td>8.89</td>\n",
       "      <td>10.22</td>\n",
       "      <td>1.00</td>\n",
       "      <td>31.37</td>\n",
       "    </tr>\n",
       "    <tr>\n",
       "      <th>5</th>\n",
       "      <td>6</td>\n",
       "      <td>Tetris</td>\n",
       "      <td>GB</td>\n",
       "      <td>1989.0</td>\n",
       "      <td>Puzzle</td>\n",
       "      <td>Nintendo</td>\n",
       "      <td>23.20</td>\n",
       "      <td>2.26</td>\n",
       "      <td>4.22</td>\n",
       "      <td>0.58</td>\n",
       "      <td>30.26</td>\n",
       "    </tr>\n",
       "    <tr>\n",
       "      <th>6</th>\n",
       "      <td>7</td>\n",
       "      <td>New Super Mario Bros.</td>\n",
       "      <td>DS</td>\n",
       "      <td>2006.0</td>\n",
       "      <td>Platform</td>\n",
       "      <td>Nintendo</td>\n",
       "      <td>11.38</td>\n",
       "      <td>9.23</td>\n",
       "      <td>6.50</td>\n",
       "      <td>2.90</td>\n",
       "      <td>30.01</td>\n",
       "    </tr>\n",
       "    <tr>\n",
       "      <th>7</th>\n",
       "      <td>8</td>\n",
       "      <td>Wii Play</td>\n",
       "      <td>Wii</td>\n",
       "      <td>2006.0</td>\n",
       "      <td>Misc</td>\n",
       "      <td>Nintendo</td>\n",
       "      <td>14.03</td>\n",
       "      <td>9.20</td>\n",
       "      <td>2.93</td>\n",
       "      <td>2.85</td>\n",
       "      <td>29.02</td>\n",
       "    </tr>\n",
       "    <tr>\n",
       "      <th>8</th>\n",
       "      <td>9</td>\n",
       "      <td>New Super Mario Bros. Wii</td>\n",
       "      <td>Wii</td>\n",
       "      <td>2009.0</td>\n",
       "      <td>Platform</td>\n",
       "      <td>Nintendo</td>\n",
       "      <td>14.59</td>\n",
       "      <td>7.06</td>\n",
       "      <td>4.70</td>\n",
       "      <td>2.26</td>\n",
       "      <td>28.62</td>\n",
       "    </tr>\n",
       "    <tr>\n",
       "      <th>9</th>\n",
       "      <td>10</td>\n",
       "      <td>Duck Hunt</td>\n",
       "      <td>NES</td>\n",
       "      <td>1984.0</td>\n",
       "      <td>Shooter</td>\n",
       "      <td>Nintendo</td>\n",
       "      <td>26.93</td>\n",
       "      <td>0.63</td>\n",
       "      <td>0.28</td>\n",
       "      <td>0.47</td>\n",
       "      <td>28.31</td>\n",
       "    </tr>\n",
       "  </tbody>\n",
       "</table>\n",
       "</div>"
      ],
      "text/plain": [
       "   Rank                       Name Platform    Year         Genre Publisher  \\\n",
       "0     1                 Wii Sports      Wii  2006.0        Sports  Nintendo   \n",
       "1     2          Super Mario Bros.      NES  1985.0      Platform  Nintendo   \n",
       "2     3             Mario Kart Wii      Wii  2008.0        Racing  Nintendo   \n",
       "3     4          Wii Sports Resort      Wii  2009.0        Sports  Nintendo   \n",
       "4     5   Pokemon Red/Pokemon Blue       GB  1996.0  Role-Playing  Nintendo   \n",
       "5     6                     Tetris       GB  1989.0        Puzzle  Nintendo   \n",
       "6     7      New Super Mario Bros.       DS  2006.0      Platform  Nintendo   \n",
       "7     8                   Wii Play      Wii  2006.0          Misc  Nintendo   \n",
       "8     9  New Super Mario Bros. Wii      Wii  2009.0      Platform  Nintendo   \n",
       "9    10                  Duck Hunt      NES  1984.0       Shooter  Nintendo   \n",
       "\n",
       "   NA_Sales  EU_Sales  JP_Sales  Other_Sales  Global_Sales  \n",
       "0     41.49     29.02      3.77         8.46         82.74  \n",
       "1     29.08      3.58      6.81         0.77         40.24  \n",
       "2     15.85     12.88      3.79         3.31         35.82  \n",
       "3     15.75     11.01      3.28         2.96         33.00  \n",
       "4     11.27      8.89     10.22         1.00         31.37  \n",
       "5     23.20      2.26      4.22         0.58         30.26  \n",
       "6     11.38      9.23      6.50         2.90         30.01  \n",
       "7     14.03      9.20      2.93         2.85         29.02  \n",
       "8     14.59      7.06      4.70         2.26         28.62  \n",
       "9     26.93      0.63      0.28         0.47         28.31  "
      ]
     },
     "execution_count": 21,
     "metadata": {},
     "output_type": "execute_result"
    }
   ],
   "source": [
    "df = pd.read_csv(\"vgsales.csv\")\n",
    "print(\"Shape:\", df.shape)\n",
    "df.head(10)"
   ]
  },
  {
   "cell_type": "markdown",
   "id": "f3f4e1a9",
   "metadata": {},
   "source": [
    "### 2. Data Cleaning\n",
    "#### Follow the data cleaning steps to clean the data.\n",
    "##### a. Drop any unwanted features if necessary."
   ]
  },
  {
   "cell_type": "code",
   "execution_count": 22,
   "id": "0811718e",
   "metadata": {},
   "outputs": [
    {
     "name": "stdout",
     "output_type": "stream",
     "text": [
      "Shape: (16598, 5)\n"
     ]
    }
   ],
   "source": [
    "remove = ['Rank', 'Publisher', 'NA_Sales', 'EU_Sales', 'JP_Sales', 'Other_Sales']\n",
    "df.drop(remove, axis = 1, inplace = True)\n",
    "print(\"Shape:\", df.shape)"
   ]
  },
  {
   "cell_type": "markdown",
   "id": "27fadbe0",
   "metadata": {},
   "source": [
    "##### b. Address any missing values."
   ]
  },
  {
   "cell_type": "code",
   "execution_count": 23,
   "id": "d48efc3f",
   "metadata": {},
   "outputs": [
    {
     "data": {
      "text/plain": [
       "Name              0\n",
       "Platform          0\n",
       "Year            271\n",
       "Genre             0\n",
       "Global_Sales      0\n",
       "dtype: int64"
      ]
     },
     "execution_count": 23,
     "metadata": {},
     "output_type": "execute_result"
    }
   ],
   "source": [
    "df.isnull().sum()"
   ]
  },
  {
   "cell_type": "code",
   "execution_count": 24,
   "id": "a497ddb8",
   "metadata": {},
   "outputs": [
    {
     "name": "stdout",
     "output_type": "stream",
     "text": [
      "Shape: (16327, 5)\n"
     ]
    }
   ],
   "source": [
    "df.dropna(subset = ['Year'], inplace = True)\n",
    "print(\"Shape:\", df.shape)"
   ]
  },
  {
   "cell_type": "markdown",
   "id": "21da43c1",
   "metadata": {},
   "source": [
    "##### c. Remove duplicates if necessary."
   ]
  },
  {
   "cell_type": "code",
   "execution_count": 25,
   "id": "6ddf7968",
   "metadata": {},
   "outputs": [
    {
     "name": "stdout",
     "output_type": "stream",
     "text": [
      "Shape: (16326, 5)\n"
     ]
    }
   ],
   "source": [
    "df.drop_duplicates(subset = ['Name', 'Platform', 'Year'], keep = 'first', inplace = True)\n",
    "print(\"Shape:\", df.shape)"
   ]
  },
  {
   "cell_type": "markdown",
   "id": "330ce16b",
   "metadata": {},
   "source": [
    "##### d. Check the data type of each column."
   ]
  },
  {
   "cell_type": "code",
   "execution_count": 26,
   "id": "05b9ac63",
   "metadata": {},
   "outputs": [
    {
     "name": "stdout",
     "output_type": "stream",
     "text": [
      "Name             object\n",
      "Platform         object\n",
      "Year            float64\n",
      "Genre            object\n",
      "Global_Sales    float64\n",
      "dtype: object\n"
     ]
    }
   ],
   "source": [
    "print(df.dtypes)"
   ]
  },
  {
   "cell_type": "code",
   "execution_count": 27,
   "id": "e274d4b0",
   "metadata": {},
   "outputs": [
    {
     "name": "stdout",
     "output_type": "stream",
     "text": [
      "Name             object\n",
      "Platform         object\n",
      "Year              Int64\n",
      "Genre            object\n",
      "Global_Sales    float64\n",
      "dtype: object\n"
     ]
    }
   ],
   "source": [
    "df['Year'] = df['Year'].astype('Int64')\n",
    "print(df.dtypes)"
   ]
  },
  {
   "cell_type": "markdown",
   "id": "a0715f91",
   "metadata": {},
   "source": [
    "##### e. For categorical variables, check if there are any inconsistent inputs.\n",
    "There are no input inconsistencies for categorical variables in the dataset."
   ]
  },
  {
   "cell_type": "code",
   "execution_count": 28,
   "id": "0f356a12",
   "metadata": {},
   "outputs": [
    {
     "data": {
      "text/plain": [
       "DS      2133\n",
       "PS2     2127\n",
       "PS3     1303\n",
       "Wii     1290\n",
       "X360    1235\n",
       "PSP     1197\n",
       "PS      1189\n",
       "PC       943\n",
       "GBA      811\n",
       "XB       803\n",
       "GC       542\n",
       "3DS      500\n",
       "PSV      412\n",
       "PS4      336\n",
       "N64      316\n",
       "SNES     239\n",
       "XOne     213\n",
       "SAT      173\n",
       "WiiU     143\n",
       "2600     116\n",
       "NES       98\n",
       "GB        97\n",
       "DC        52\n",
       "GEN       27\n",
       "NG        12\n",
       "SCD        6\n",
       "WS         6\n",
       "3DO        3\n",
       "TG16       2\n",
       "GG         1\n",
       "PCFX       1\n",
       "Name: Platform, dtype: int64"
      ]
     },
     "execution_count": 28,
     "metadata": {},
     "output_type": "execute_result"
    }
   ],
   "source": [
    "df['Platform'].value_counts()"
   ]
  },
  {
   "cell_type": "code",
   "execution_count": 29,
   "id": "d8fe95e7",
   "metadata": {},
   "outputs": [
    {
     "data": {
      "text/plain": [
       "Action          3253\n",
       "Sports          2303\n",
       "Misc            1710\n",
       "Role-Playing    1471\n",
       "Shooter         1282\n",
       "Adventure       1276\n",
       "Racing          1226\n",
       "Platform         876\n",
       "Simulation       851\n",
       "Fighting         836\n",
       "Strategy         671\n",
       "Puzzle           571\n",
       "Name: Genre, dtype: int64"
      ]
     },
     "execution_count": 29,
     "metadata": {},
     "output_type": "execute_result"
    }
   ],
   "source": [
    "df['Genre'].value_counts()"
   ]
  },
  {
   "cell_type": "markdown",
   "id": "0133687c",
   "metadata": {},
   "source": [
    "##### f. For numeric variables, check for outliers.\n",
    "As this dataset was last updated 6 years ago, any game with a release date after 2016 are mislabeled, and thus will be removed to prevent inaccurate results."
   ]
  },
  {
   "cell_type": "code",
   "execution_count": 30,
   "id": "62cc14fc",
   "metadata": {},
   "outputs": [
    {
     "data": {
      "text/plain": [
       "2009    1431\n",
       "2008    1428\n",
       "2010    1259\n",
       "2007    1202\n",
       "2011    1139\n",
       "2006    1008\n",
       "2005     941\n",
       "2002     829\n",
       "2003     775\n",
       "2004     763\n",
       "2012     656\n",
       "2015     614\n",
       "2014     582\n",
       "2013     546\n",
       "2001     482\n",
       "1998     379\n",
       "2000     349\n",
       "2016     344\n",
       "1999     338\n",
       "1997     289\n",
       "1996     263\n",
       "1995     219\n",
       "1994     121\n",
       "1993      60\n",
       "1981      46\n",
       "1992      43\n",
       "1991      41\n",
       "1982      36\n",
       "1986      21\n",
       "1983      17\n",
       "1989      17\n",
       "1990      16\n",
       "1987      16\n",
       "1988      15\n",
       "1985      14\n",
       "1984      14\n",
       "1980       9\n",
       "2017       3\n",
       "2020       1\n",
       "Name: Year, dtype: Int64"
      ]
     },
     "execution_count": 30,
     "metadata": {},
     "output_type": "execute_result"
    }
   ],
   "source": [
    "df['Year'].value_counts()"
   ]
  },
  {
   "cell_type": "code",
   "execution_count": 32,
   "id": "ea95dee0",
   "metadata": {},
   "outputs": [
    {
     "data": {
      "text/plain": [
       "2009    1431\n",
       "2008    1428\n",
       "2010    1259\n",
       "2007    1202\n",
       "2011    1139\n",
       "2006    1008\n",
       "2005     941\n",
       "2002     829\n",
       "2003     775\n",
       "2004     763\n",
       "2012     656\n",
       "2015     614\n",
       "2014     582\n",
       "2013     546\n",
       "2001     482\n",
       "1998     379\n",
       "2000     349\n",
       "2016     344\n",
       "1999     338\n",
       "1997     289\n",
       "1996     263\n",
       "1995     219\n",
       "1994     121\n",
       "1993      60\n",
       "1981      46\n",
       "1992      43\n",
       "1991      41\n",
       "1982      36\n",
       "1986      21\n",
       "1983      17\n",
       "1989      17\n",
       "1990      16\n",
       "1987      16\n",
       "1988      15\n",
       "1984      14\n",
       "1985      14\n",
       "1980       9\n",
       "Name: Year, dtype: Int64"
      ]
     },
     "execution_count": 32,
     "metadata": {},
     "output_type": "execute_result"
    }
   ],
   "source": [
    "df = df[df['Year'] < 2017]\n",
    "df['Year'].value_counts()"
   ]
  },
  {
   "cell_type": "markdown",
   "id": "9af13abd",
   "metadata": {},
   "source": [
    "### 3. Exploratory Data Analysis and Interpretation of the Results\n",
    "#### Question 1: Which platform has the most global sales of all time?\n",
    "##### 1a. Process the data. Generate the results you want."
   ]
  },
  {
   "cell_type": "code",
   "execution_count": 37,
   "id": "fb04ca93",
   "metadata": {},
   "outputs": [
    {
     "data": {
      "text/html": [
       "<div>\n",
       "<style scoped>\n",
       "    .dataframe tbody tr th:only-of-type {\n",
       "        vertical-align: middle;\n",
       "    }\n",
       "\n",
       "    .dataframe tbody tr th {\n",
       "        vertical-align: top;\n",
       "    }\n",
       "\n",
       "    .dataframe thead th {\n",
       "        text-align: right;\n",
       "    }\n",
       "</style>\n",
       "<table border=\"1\" class=\"dataframe\">\n",
       "  <thead>\n",
       "    <tr style=\"text-align: right;\">\n",
       "      <th></th>\n",
       "      <th>Platform</th>\n",
       "      <th>Global_Sales</th>\n",
       "    </tr>\n",
       "  </thead>\n",
       "  <tbody>\n",
       "    <tr>\n",
       "      <th>16</th>\n",
       "      <td>PS2</td>\n",
       "      <td>1233.46</td>\n",
       "    </tr>\n",
       "    <tr>\n",
       "      <th>28</th>\n",
       "      <td>X360</td>\n",
       "      <td>969.61</td>\n",
       "    </tr>\n",
       "    <tr>\n",
       "      <th>17</th>\n",
       "      <td>PS3</td>\n",
       "      <td>949.34</td>\n",
       "    </tr>\n",
       "    <tr>\n",
       "      <th>26</th>\n",
       "      <td>Wii</td>\n",
       "      <td>909.81</td>\n",
       "    </tr>\n",
       "    <tr>\n",
       "      <th>4</th>\n",
       "      <td>DS</td>\n",
       "      <td>818.67</td>\n",
       "    </tr>\n",
       "    <tr>\n",
       "      <th>15</th>\n",
       "      <td>PS</td>\n",
       "      <td>727.39</td>\n",
       "    </tr>\n",
       "    <tr>\n",
       "      <th>6</th>\n",
       "      <td>GBA</td>\n",
       "      <td>313.56</td>\n",
       "    </tr>\n",
       "    <tr>\n",
       "      <th>19</th>\n",
       "      <td>PSP</td>\n",
       "      <td>291.71</td>\n",
       "    </tr>\n",
       "    <tr>\n",
       "      <th>18</th>\n",
       "      <td>PS4</td>\n",
       "      <td>278.07</td>\n",
       "    </tr>\n",
       "    <tr>\n",
       "      <th>13</th>\n",
       "      <td>PC</td>\n",
       "      <td>255.05</td>\n",
       "    </tr>\n",
       "  </tbody>\n",
       "</table>\n",
       "</div>"
      ],
      "text/plain": [
       "   Platform  Global_Sales\n",
       "16      PS2       1233.46\n",
       "28     X360        969.61\n",
       "17      PS3        949.34\n",
       "26      Wii        909.81\n",
       "4        DS        818.67\n",
       "15       PS        727.39\n",
       "6       GBA        313.56\n",
       "19      PSP        291.71\n",
       "18      PS4        278.07\n",
       "13       PC        255.05"
      ]
     },
     "execution_count": 37,
     "metadata": {},
     "output_type": "execute_result"
    }
   ],
   "source": [
    "df_q1 = df.groupby('Platform')['Global_Sales'].sum().reset_index()\n",
    "df_q1.sort_values(by='Global_Sales', ascending=False, inplace=True)\n",
    "df_q1.head(10)"
   ]
  },
  {
   "cell_type": "markdown",
   "id": "e9b9387e",
   "metadata": {},
   "source": [
    "##### 1b. Create a graph to visualize the result."
   ]
  },
  {
   "cell_type": "code",
   "execution_count": 45,
   "id": "3ed28703",
   "metadata": {},
   "outputs": [
    {
     "data": {
      "image/png": "[encoded data removed]",
      "text/plain": [
       "<Figure size 432x288 with 1 Axes>"
      ]
     },
     "metadata": {
      "needs_background": "light"
     },
     "output_type": "display_data"
    }
   ],
   "source": [
    "plt.bar(df_q1.iloc[:,0], df_q1.iloc[:,1])\n",
    "plt.suptitle('Global Game Sales per Platform')\n",
    "plt.xlabel('Platform')\n",
    "plt.ylabel('Global Sales (in millions)')\n",
    "plt.xticks(rotation=90)\n",
    "plt.yticks([200, 400, 600, 800, 1000, 1200, 1400])\n",
    "plt.show()"
   ]
  },
  {
   "cell_type": "markdown",
   "id": "887424f6",
   "metadata": {},
   "source": [
    "##### 1c. Interpret the result. Explain your findings.\n",
    "The graph shows that the PS2 is the platform with the most global game sales, with just over 1.2 billion global sales. Overall, beyond the PS2, there is a sharp decrease in global sales before the next five platforms, which themselves have a gradual decrease in global sales, starting with the X360 at just under 1.0 billion global sales. Beyond those five, there is another sharp decrease in sales, followed by another gradual decrease, starting with the GBA at just over 300 million global sales."
   ]
  },
  {
   "cell_type": "markdown",
   "id": "061510f5",
   "metadata": {},
   "source": [
    "#### Question 2: For the platform with the most global sales, which genre of game had the most global sales?\n",
    "##### 2a. Process the data. Generate the results you want."
   ]
  },
  {
   "cell_type": "code",
   "execution_count": 50,
   "id": "c0507583",
   "metadata": {},
   "outputs": [
    {
     "data": {
      "text/html": [
       "<div>\n",
       "<style scoped>\n",
       "    .dataframe tbody tr th:only-of-type {\n",
       "        vertical-align: middle;\n",
       "    }\n",
       "\n",
       "    .dataframe tbody tr th {\n",
       "        vertical-align: top;\n",
       "    }\n",
       "\n",
       "    .dataframe thead th {\n",
       "        text-align: right;\n",
       "    }\n",
       "</style>\n",
       "<table border=\"1\" class=\"dataframe\">\n",
       "  <thead>\n",
       "    <tr style=\"text-align: right;\">\n",
       "      <th></th>\n",
       "      <th>Genre</th>\n",
       "      <th>Global_Sales</th>\n",
       "    </tr>\n",
       "  </thead>\n",
       "  <tbody>\n",
       "    <tr>\n",
       "      <th>0</th>\n",
       "      <td>Action</td>\n",
       "      <td>272.43</td>\n",
       "    </tr>\n",
       "    <tr>\n",
       "      <th>10</th>\n",
       "      <td>Sports</td>\n",
       "      <td>262.64</td>\n",
       "    </tr>\n",
       "    <tr>\n",
       "      <th>6</th>\n",
       "      <td>Racing</td>\n",
       "      <td>154.21</td>\n",
       "    </tr>\n",
       "    <tr>\n",
       "      <th>8</th>\n",
       "      <td>Shooter</td>\n",
       "      <td>108.28</td>\n",
       "    </tr>\n",
       "    <tr>\n",
       "      <th>3</th>\n",
       "      <td>Misc</td>\n",
       "      <td>98.69</td>\n",
       "    </tr>\n",
       "    <tr>\n",
       "      <th>7</th>\n",
       "      <td>Role-Playing</td>\n",
       "      <td>91.55</td>\n",
       "    </tr>\n",
       "    <tr>\n",
       "      <th>2</th>\n",
       "      <td>Fighting</td>\n",
       "      <td>89.19</td>\n",
       "    </tr>\n",
       "    <tr>\n",
       "      <th>4</th>\n",
       "      <td>Platform</td>\n",
       "      <td>72.11</td>\n",
       "    </tr>\n",
       "    <tr>\n",
       "      <th>9</th>\n",
       "      <td>Simulation</td>\n",
       "      <td>42.26</td>\n",
       "    </tr>\n",
       "    <tr>\n",
       "      <th>1</th>\n",
       "      <td>Adventure</td>\n",
       "      <td>21.16</td>\n",
       "    </tr>\n",
       "  </tbody>\n",
       "</table>\n",
       "</div>"
      ],
      "text/plain": [
       "           Genre  Global_Sales\n",
       "0         Action        272.43\n",
       "10        Sports        262.64\n",
       "6         Racing        154.21\n",
       "8        Shooter        108.28\n",
       "3           Misc         98.69\n",
       "7   Role-Playing         91.55\n",
       "2       Fighting         89.19\n",
       "4       Platform         72.11\n",
       "9     Simulation         42.26\n",
       "1      Adventure         21.16"
      ]
     },
     "execution_count": 50,
     "metadata": {},
     "output_type": "execute_result"
    }
   ],
   "source": [
    "df_q2 = df[df['Platform'] == 'PS2'].groupby('Genre')['Global_Sales'].sum().reset_index()\n",
    "df_q2.sort_values(by='Global_Sales', ascending=False, inplace=True)\n",
    "df_q2.head(10)"
   ]
  },
  {
   "cell_type": "markdown",
   "id": "79f8ef2c",
   "metadata": {},
   "source": [
    "##### 2b. Create a graph to visualize the result."
   ]
  },
  {
   "cell_type": "code",
   "execution_count": 53,
   "id": "8176abee",
   "metadata": {},
   "outputs": [
    {
     "data": {
      "image/png": "[encoded data removed]",
      "text/plain": [
       "<Figure size 432x288 with 1 Axes>"
      ]
     },
     "metadata": {
      "needs_background": "light"
     },
     "output_type": "display_data"
    }
   ],
   "source": [
    "plt.bar(df_q2.iloc[:,0], df_q2.iloc[:,1])\n",
    "plt.suptitle('PS2 Global Game Sales per Genre')\n",
    "plt.xlabel('Genre')\n",
    "plt.ylabel('Global Sales (in millions)')\n",
    "plt.xticks(rotation=30, ha='right')\n",
    "plt.yticks([50, 100, 150, 200, 250, 300])\n",
    "plt.show()"
   ]
  },
  {
   "cell_type": "markdown",
   "id": "30186f4d",
   "metadata": {},
   "source": [
    "##### 2c. Interpret the result. Explain your findings.\n",
    "The graph shows that Action is the genre with the most global game sales on the PS2, with roughly 270 million global sales.\n",
    "Overall, besides Sports, the genre with the second most global sales at roughly 260 million global sales, starting at Racing with roughly 150 million sales the rest of the genres see a gradual decrease in global sales."
   ]
  },
  {
   "cell_type": "markdown",
   "id": "bf6b1859",
   "metadata": {},
   "source": [
    "#### Question 3: For the genre with the most global sales on the platform with the most global sales, which year had the most global sales?\n",
    "##### 3a. Process the data. Generate the result you want."
   ]
  },
  {
   "cell_type": "code",
   "execution_count": 65,
   "id": "84b52b6b",
   "metadata": {},
   "outputs": [
    {
     "data": {
      "text/html": [
       "<div>\n",
       "<style scoped>\n",
       "    .dataframe tbody tr th:only-of-type {\n",
       "        vertical-align: middle;\n",
       "    }\n",
       "\n",
       "    .dataframe tbody tr th {\n",
       "        vertical-align: top;\n",
       "    }\n",
       "\n",
       "    .dataframe thead th {\n",
       "        text-align: right;\n",
       "    }\n",
       "</style>\n",
       "<table border=\"1\" class=\"dataframe\">\n",
       "  <thead>\n",
       "    <tr style=\"text-align: right;\">\n",
       "      <th></th>\n",
       "      <th>Year</th>\n",
       "      <th>Global_Sales</th>\n",
       "    </tr>\n",
       "  </thead>\n",
       "  <tbody>\n",
       "    <tr>\n",
       "      <th>4</th>\n",
       "      <td>2004</td>\n",
       "      <td>49.40</td>\n",
       "    </tr>\n",
       "    <tr>\n",
       "      <th>2</th>\n",
       "      <td>2002</td>\n",
       "      <td>46.66</td>\n",
       "    </tr>\n",
       "    <tr>\n",
       "      <th>5</th>\n",
       "      <td>2005</td>\n",
       "      <td>42.74</td>\n",
       "    </tr>\n",
       "    <tr>\n",
       "      <th>3</th>\n",
       "      <td>2003</td>\n",
       "      <td>40.32</td>\n",
       "    </tr>\n",
       "    <tr>\n",
       "      <th>1</th>\n",
       "      <td>2001</td>\n",
       "      <td>35.06</td>\n",
       "    </tr>\n",
       "    <tr>\n",
       "      <th>6</th>\n",
       "      <td>2006</td>\n",
       "      <td>20.27</td>\n",
       "    </tr>\n",
       "    <tr>\n",
       "      <th>7</th>\n",
       "      <td>2007</td>\n",
       "      <td>17.01</td>\n",
       "    </tr>\n",
       "    <tr>\n",
       "      <th>8</th>\n",
       "      <td>2008</td>\n",
       "      <td>11.51</td>\n",
       "    </tr>\n",
       "    <tr>\n",
       "      <th>9</th>\n",
       "      <td>2009</td>\n",
       "      <td>4.66</td>\n",
       "    </tr>\n",
       "    <tr>\n",
       "      <th>0</th>\n",
       "      <td>2000</td>\n",
       "      <td>3.39</td>\n",
       "    </tr>\n",
       "  </tbody>\n",
       "</table>\n",
       "</div>"
      ],
      "text/plain": [
       "   Year  Global_Sales\n",
       "4  2004         49.40\n",
       "2  2002         46.66\n",
       "5  2005         42.74\n",
       "3  2003         40.32\n",
       "1  2001         35.06\n",
       "6  2006         20.27\n",
       "7  2007         17.01\n",
       "8  2008         11.51\n",
       "9  2009          4.66\n",
       "0  2000          3.39"
      ]
     },
     "execution_count": 65,
     "metadata": {},
     "output_type": "execute_result"
    }
   ],
   "source": [
    "df_q3 = df[(df['Platform'] == 'PS2') & (df['Genre'] == 'Action')].groupby('Year')['Global_Sales'].sum().reset_index()\n",
    "df_q3.sort_values(by='Global_Sales', ascending=False, inplace=True)\n",
    "df_q3.head(10)"
   ]
  },
  {
   "cell_type": "markdown",
   "id": "b5084d26",
   "metadata": {},
   "source": [
    "##### 3b. Create a graph to visualize the result."
   ]
  },
  {
   "cell_type": "code",
   "execution_count": 66,
   "id": "56f52f3c",
   "metadata": {
    "scrolled": true
   },
   "outputs": [
    {
     "data": {
      "image/png": "[encoded data removed]",
      "text/plain": [
       "<Figure size 432x288 with 1 Axes>"
      ]
     },
     "metadata": {
      "needs_background": "light"
     },
     "output_type": "display_data"
    }
   ],
   "source": [
    "plt.bar(df_q3.iloc[:,0], df_q3.iloc[:,1])\n",
    "plt.suptitle('PS2 Global Action Game Sales per Year')\n",
    "plt.xlabel('Year')\n",
    "plt.ylabel('Global Sales (in millions)')\n",
    "plt.xticks([2000, 2001, 2002, 2003, 2004, 2005, 2006, 2007, 2008, 2009, 2010, 2011], rotation=30, ha='right')\n",
    "plt.yticks([10, 20, 30, 40, 50, 60])\n",
    "plt.show()"
   ]
  },
  {
   "cell_type": "markdown",
   "id": "6538dee4",
   "metadata": {},
   "source": [
    "##### 3c. Interpret the results. Explain your findings.\n",
    "The graph shows that 2004 is the year that had the most global action game sales on the PS2, with roughly 50 million global sales. Overall, it can be inferred that the launch of the PS2 was around the end of the year 2000, and the launch of its successor, the PS3, was likely in 2006, the first year the PS2's global action game sales saw a significant drop followed by a gradual decrease, instead of staying relatively stable as it did between the years of 2001 to 2005."
   ]
  },
  {
   "cell_type": "markdown",
   "id": "ed82f2c3",
   "metadata": {},
   "source": [
    "### 4. Summary\n",
    "#### Summarize the main findings from this project as well as what you failed to find from the results. Describe what you want to further explore about this topic.\n",
    "As all 3 questions were answered sufficiently, there was nothing I set out to find that I did not find from my results.  \n",
    "\n",
    "I found that the PS2 is the platform with the most global sales across all platforms. Additionally, the genre with the most global sales on the PS2 is the Action genre. Of all years the PS2 sold action games, 2004 was the year with the most action games sold globally.\n",
    "\n",
    "In conclusion, my findings are that the \"most typical\" game, or the type of game that is most likely to have been played by anyone who plays video games, would be an Action game on the PS2 that released in 2004.\n",
    "\n",
    "Something I could further expore about this topic is whether or not platform had a significant effect on how many sales a particular genre had."
   ]
  },
  {
   "cell_type": "markdown",
   "id": "230814a4",
   "metadata": {},
   "source": [
    "### 5. Upload it to your Github Repository. Then include a link to your Github Repository and upload the entire Jupyter-notebook file to Moodle.\n",
    "Github Repo: https://github.com/KyleRiggs/DataAnalyticsP1"
   ]
  },
  {
   "cell_type": "code",
   "execution_count": null,
   "id": "b03cbc5e",
   "metadata": {},
   "outputs": [],
   "source": []
  }
 ],
 "metadata": {
  "kernelspec": {
   "display_name": "Python 3 (ipykernel)",
   "language": "python",
   "name": "python3"
  },
  "language_info": {
   "codemirror_mode": {
    "name": "ipython",
    "version": 3
   },
   "file_extension": ".py",
   "mimetype": "text/x-python",
   "name": "python",
   "nbconvert_exporter": "python",
   "pygments_lexer": "ipython3",
   "version": "3.9.12"
  }
 },
 "nbformat": 4,
 "nbformat_minor": 5
}
